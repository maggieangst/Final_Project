{
 "cells": [
  {
   "cell_type": "code",
   "execution_count": 1,
   "metadata": {
    "collapsed": true
   },
   "outputs": [],
   "source": [
    "import agate"
   ]
  },
  {
   "cell_type": "code",
   "execution_count": 2,
   "metadata": {
    "collapsed": false
   },
   "outputs": [
    {
     "name": "stdout",
     "output_type": "stream",
     "text": [
      "|---------------+---------------|\n",
      "|  column_names | column_types  |\n",
      "|---------------+---------------|\n",
      "|  OBJECTID *   | Number        |\n",
      "|  Shape *      | Text          |\n",
      "|  ID           | Number        |\n",
      "|  SEQUENCE     | Number        |\n",
      "|  ADD_         | Text          |\n",
      "|  ELEVM        | Number        |\n",
      "|  ELEVF        | Number        |\n",
      "|  ZONE         | Date          |\n",
      "|  NORTHING     | Number        |\n",
      "|  EASTING      | Number        |\n",
      "|  TWODEG       | Text          |\n",
      "|  X_1_2__QUA   | Text          |\n",
      "|  FIPS         | Number        |\n",
      "|  COUNTY       | Text          |\n",
      "|  TWP          | Date          |\n",
      "|  RNG          | TimeDelta     |\n",
      "|  SEC          | Number        |\n",
      "|  QUARTER      | Text          |\n",
      "|  PROJECTED    | Boolean       |\n",
      "|  LAND_GRANT   | Number        |\n",
      "|  PROPNAME     | Text          |\n",
      "|  TYPEOPR      | Text          |\n",
      "|  SURFACE      | Text          |\n",
      "|  UNDERGROUN   | Text          |\n",
      "|  SMELTER      | Text          |\n",
      "|  TAILINGS     | Boolean       |\n",
      "|  WASTE_ROCK   | Boolean       |\n",
      "|  PLANT        | Boolean       |\n",
      "|  STATUS       | Text          |\n",
      "|  MSHA         | Number        |\n",
      "|  COMMODITY    | Text          |\n",
      "|  OWNER        | Text          |\n",
      "|  OPERATOR     | Text          |\n",
      "|  ACRES        | Number        |\n",
      "|  DEPTH        | Number        |\n",
      "|  REF          | Text          |\n",
      "|  PHOTO        | Text          |\n",
      "|  OTHER_SEC    | Text          |\n",
      "|  FORMATION    | Text          |\n",
      "|  OPENED       | Text          |\n",
      "|  CLOSED       | Text          |\n",
      "|  REOPENED     | Text          |\n",
      "|  RECLOSED     | Text          |\n",
      "|  TONNAGE      | Text          |\n",
      "|  SOURCE_TON   | Text          |\n",
      "|  TIME_TONNA   | Text          |\n",
      "|  USBM_TONS    | Text          |\n",
      "|  USBM_TONS_   | Text          |\n",
      "|  OTHER_TON_   | Text          |\n",
      "|  SHEET        | Text          |\n",
      "|  AREAL        | Text          |\n",
      "|  COMMENT      | Text          |\n",
      "|  SHAFT_NAME   | Text          |\n",
      "|  DIFFERENT_   | Text          |\n",
      "|  DIMENSIONS   | Text          |\n",
      "|  MILS_COMME   | Text          |\n",
      "|  LOCATION_P   | Text          |\n",
      "|  UTM_LOCATI   | Text          |\n",
      "|  UTME_NAD27   | Number        |\n",
      "|  UTMN_NAD27   | Number        |\n",
      "|  UTME_NAD83   | Number        |\n",
      "|  UTMN_NAD83   | Number        |\n",
      "|---------------+---------------|\n",
      "\n"
     ]
    }
   ],
   "source": [
    "smelters = agate.Table.from_csv('Smelters_Mines.csv')\n",
    "print smelters"
   ]
  },
  {
   "cell_type": "code",
   "execution_count": 7,
   "metadata": {
    "collapsed": false
   },
   "outputs": [
    {
     "name": "stdout",
     "output_type": "stream",
     "text": [
      "166\n"
     ]
    }
   ],
   "source": [
    "surface = smelters.aggregate(agate.Count('TYPEOPR', 'Surface; Underground'))\n",
    "print surface"
   ]
  },
  {
   "cell_type": "code",
   "execution_count": 35,
   "metadata": {
    "collapsed": false
   },
   "outputs": [
    {
     "name": "stdout",
     "output_type": "stream",
     "text": [
      "185\n"
     ]
    }
   ],
   "source": [
    "prospect = smelters.aggregate(agate.Count('STATUS', 'Prospect'))\n",
    "print prospect"
   ]
  },
  {
   "cell_type": "code",
   "execution_count": 8,
   "metadata": {
    "collapsed": false
   },
   "outputs": [
    {
     "name": "stdout",
     "output_type": "stream",
     "text": [
      "1574\n"
     ]
    }
   ],
   "source": [
    "past = smelters.aggregate(agate.Count('STATUS', 'Past Producer'))\n",
    "print past"
   ]
  },
  {
   "cell_type": "code",
   "execution_count": 9,
   "metadata": {
    "collapsed": false
   },
   "outputs": [
    {
     "name": "stdout",
     "output_type": "stream",
     "text": [
      "206\n"
     ]
    }
   ],
   "source": [
    "cole = smelters.aggregate(agate.Count('COUNTY', 'Cole'))\n",
    "print cole"
   ]
  },
  {
   "cell_type": "code",
   "execution_count": 37,
   "metadata": {
    "collapsed": false
   },
   "outputs": [
    {
     "name": "stdout",
     "output_type": "stream",
     "text": [
      "1418\n"
     ]
    }
   ],
   "source": [
    "num_without_owner = smelters.aggregate(agate.Count('OWNER', None))\n",
    "print(num_without_owner)"
   ]
  },
  {
   "cell_type": "code",
   "execution_count": 11,
   "metadata": {
    "collapsed": false
   },
   "outputs": [
    {
     "name": "stdout",
     "output_type": "stream",
     "text": [
      "<agate.Column: (u'Zinc; Lead', u'Zinc-sulfide; Barium', u'Lead-sulfide; Barium', u'Lead-sulfide', u'Barium; Lead', ...)>\n"
     ]
    }
   ],
   "source": [
    "print smelters.columns['COMMODITY']"
   ]
  },
  {
   "cell_type": "code",
   "execution_count": 39,
   "metadata": {
    "collapsed": false
   },
   "outputs": [
    {
     "name": "stdout",
     "output_type": "stream",
     "text": [
      "|-----------------------+--------|\n",
      "|  COMMODITY            | count  |\n",
      "|-----------------------+--------|\n",
      "|  Barium               |   571  |\n",
      "|  Lead                 |   439  |\n",
      "|  Lead; Zinc           |   145  |\n",
      "|  Lead; Barium         |    87  |\n",
      "|  Barium; Lead         |    77  |\n",
      "|  Lead-sulfide         |    65  |\n",
      "|  Zinc                 |    46  |\n",
      "|  Lead?                |    44  |\n",
      "|  Lead?; Barium?       |    40  |\n",
      "|  Lead-sulfide; Barium |    29  |\n",
      "|  ...                  |   ...  |\n",
      "|-----------------------+--------|\n"
     ]
    }
   ],
   "source": [
    "by_commodity = smelters.group_by('COMMODITY')\n",
    "commodity_totals = by_commodity.aggregate([\n",
    "    ('count', agate.Count())\n",
    "])\n",
    "sorted_totals = commodity_totals.order_by('count', reverse=True)\n",
    "sorted_totals.print_table(max_rows=10)"
   ]
  },
  {
   "cell_type": "code",
   "execution_count": 15,
   "metadata": {
    "collapsed": false
   },
   "outputs": [
    {
     "name": "stdout",
     "output_type": "stream",
     "text": [
      "|-----------+--------|\n",
      "|  COUNTY   | count  |\n",
      "|-----------+--------|\n",
      "|  Miller   |   669  |\n",
      "|  Morgan   |   596  |\n",
      "|  Moniteau |   244  |\n",
      "|  Cole     |   206  |\n",
      "|  Camden   |    90  |\n",
      "|  ...      |   ...  |\n",
      "|-----------+--------|\n"
     ]
    }
   ],
   "source": [
    "by_county = smelters.group_by('COUNTY')\n",
    "county_totals = by_county.aggregate([\n",
    "    ('count', agate.Count())\n",
    "])\n",
    "\n",
    "sorted_totals = county_totals.order_by('count', reverse=True)\n",
    "sorted_totals.print_table(max_rows=5)"
   ]
  },
  {
   "cell_type": "code",
   "execution_count": 22,
   "metadata": {
    "collapsed": false
   },
   "outputs": [
    {
     "name": "stdout",
     "output_type": "stream",
     "text": [
      "|-----------------------+--------|\n",
      "|  OPERATOR             | count  |\n",
      "|-----------------------+--------|\n",
      "|                       | 1,417  |\n",
      "|  O.S. Reavis          |    17  |\n",
      "|  Ozark Mining and ... |     9  |\n",
      "|  John White           |     7  |\n",
      "|  Campbell Brothers    |     6  |\n",
      "|  Union Electric       |     6  |\n",
      "|  ...                  |   ...  |\n",
      "|-----------------------+--------|\n"
     ]
    }
   ],
   "source": [
    "by_operator = smelters.group_by('OPERATOR')\n",
    "operator_totals = by_operator.aggregate([\n",
    "    ('count', agate.Count())\n",
    "])\n",
    "sorted_totals = operator_totals.order_by('count', reverse=True)\n",
    "sorted_totals.print_table(max_rows=6)"
   ]
  },
  {
   "cell_type": "code",
   "execution_count": 58,
   "metadata": {
    "collapsed": false
   },
   "outputs": [
    {
     "name": "stdout",
     "output_type": "stream",
     "text": [
      "DEPTH       Count\n",
      "[0 - 15)    1,597 ▓░░░░░░░░░░░░░░░░░░░░░░░░░░░░░░░░░░░░░░░░░░░░░░░░░            \n",
      "[15 - 30)     110 ▓░░░                                                          \n",
      "[30 - 45)      87 ▓░░░                                                          \n",
      "[45 - 60)      40 ▓░                                                            \n",
      "[60 - 75)      38 ▓░                                                            \n",
      "[75 - 90)      47 ▓░                                                            \n",
      "[90 - 105)     34 ▓░                                                            \n",
      "[105 - 120)     9 ▓                                                             \n",
      "[120 - 135)    16 ▓                                                             \n",
      "[135 - 150)    12 ▓                                                             \n",
      "[150 - 165)    12 ▓                                                             \n",
      "[165 - 180)     6 ▓                                                             \n",
      "[180 - 195)     4 ▓                                                             \n",
      "[195 - 210)     6 ▓                                                             \n",
      "[225 - 240)     1 ▓                                                             \n",
      "[285 - 300]     1 ▓                                                             \n",
      "                  +--------------+--------------+---------------+--------------+\n",
      "                  0             500           1,000           1,500        2,000\n"
     ]
    }
   ],
   "source": [
    "binned_depth = smelters.bins('DEPTH', 20, 0, 300)\n",
    "binned_depth.print_bars('DEPTH', 'Count', width=80)"
   ]
  },
  {
   "cell_type": "code",
   "execution_count": 36,
   "metadata": {
    "collapsed": false
   },
   "outputs": [
    {
     "data": {
      "text/plain": [
       "(Decimal('13.70371287128712871287128713'),)"
      ]
     },
     "execution_count": 36,
     "metadata": {},
     "output_type": "execute_result"
    }
   ],
   "source": [
    "smelters.aggregate([\n",
    "    agate.Mean('DEPTH')\n",
    "])"
   ]
  },
  {
   "cell_type": "code",
   "execution_count": 70,
   "metadata": {
    "collapsed": false
   },
   "outputs": [
    {
     "name": "stdout",
     "output_type": "stream",
     "text": [
      "|---------------+--------|\n",
      "|  COMMODITY    | count  |\n",
      "|---------------+--------|\n",
      "|  Barium       |   571  |\n",
      "|  Lead         |   439  |\n",
      "|  Lead; Zinc   |   145  |\n",
      "|  Lead; Barium |    87  |\n",
      "|  Barium; Lead |    77  |\n",
      "|  Lead-sulfide |    65  |\n",
      "|  ...          |   ...  |\n",
      "|---------------+--------|\n"
     ]
    }
   ],
   "source": [
    "with_commodity_in_county = smelters.compute([\n",
    "    ('years_in_prison', agate.Change('convicted', 'exonerated'))\n",
    "])\n",
    "\n",
    "county_totals = with_years_in_prison.group_by('state')\n",
    "\n",
    "medians = state_totals.aggregate([\n",
    "    ('count', agate.Count()),\n",
    "    ('median_years_in_prison', agate.Median('years_in_prison'))\n",
    "])\n",
    "\n",
    "sorted_medians = medians.order_by('median_years_in_prison', reverse=True)\n",
    "\n",
    "sorted_medians.print_table(max_rows=5)"
   ]
  },
  {
   "cell_type": "code",
   "execution_count": 78,
   "metadata": {
    "collapsed": false
   },
   "outputs": [],
   "source": [
    "operators_by_county = smelters.group_by(\"COUNTY\").group_by('OPERATOR')"
   ]
  },
  {
   "cell_type": "code",
   "execution_count": 82,
   "metadata": {
    "collapsed": false
   },
   "outputs": [],
   "source": [
    "new_table = smelters.distinct('OPERATOR')"
   ]
  }
 ],
 "metadata": {
  "kernelspec": {
   "display_name": "Python 2",
   "language": "python",
   "name": "python2"
  },
  "language_info": {
   "codemirror_mode": {
    "name": "ipython",
    "version": 2
   },
   "file_extension": ".py",
   "mimetype": "text/x-python",
   "name": "python",
   "nbconvert_exporter": "python",
   "pygments_lexer": "ipython2",
   "version": "2.7.6"
  }
 },
 "nbformat": 4,
 "nbformat_minor": 0
}
